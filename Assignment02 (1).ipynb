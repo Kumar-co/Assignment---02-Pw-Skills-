{
  "nbformat": 4,
  "nbformat_minor": 0,
  "metadata": {
    "colab": {
      "provenance": []
    },
    "kernelspec": {
      "name": "python3",
      "display_name": "Python 3"
    },
    "language_info": {
      "name": "python"
    }
  },
  "cells": [
    {
      "cell_type": "code",
      "execution_count": null,
      "metadata": {
        "id": "juMVLY4s8uzT"
      },
      "outputs": [],
      "source": [
        "\"\"\"Q1. How do you comment code in Python? What are the different types of comments?\"\"\"\n",
        "#Answer\n",
        "# This is a single-line comment\n",
        "x = 10\n",
        "\n",
        "\"\"\"\n",
        "This is a multi-line comment.\n",
        "It can span multiple lines.\n",
        "\"\"\"\n",
        "x = 10\n",
        "\n",
        "'''\n",
        "Another example of a multi-line comment.\n",
        "This one uses single quotes.\n",
        "'''\n",
        "x = 10\n",
        "\n"
      ]
    },
    {
      "cell_type": "code",
      "source": [
        "'''Q2. What are variables in Python? How do you declare and assign values to variables?'''\n",
        "#Answer\n",
        "\n",
        "#In Python, variables are used to store data that can be referenced and manipulated throughout a program.\n",
        "#They act as placeholders for values and can be used to manage and control the flow of data within your code.\n",
        "\n",
        "#Syntax for Declaring and Assigning Values:\n",
        "'''variable_name = value'''\n",
        "\n",
        "#Integer Variable:\n",
        "age = 25\n",
        "\n",
        "#Floating-Point Variable:\n",
        "height = 5.9\n",
        "#String Variable:\n",
        "name = \"Alice\"\n",
        "#Boolean Variable:\n",
        "is_active = True\n",
        "#List Variable:\n",
        "numbers = [1, 2, 3, 4, 5]\n",
        "#Dictionary Variable:\n",
        "person = {\"name\": \"Bob\", \"age\": 30}\n",
        "\n"
      ],
      "metadata": {
        "id": "nKTPGdXx_A0u"
      },
      "execution_count": null,
      "outputs": []
    },
    {
      "cell_type": "code",
      "source": [
        "\"\"\"Q3. How do you convert one data type to another in Python?\"\"\"\n",
        "#Answer ; In Python, converting one data type to another is commonly done using type conversion functions.\n",
        "\n",
        "\n",
        "#1.Convert to int: Converts a value to an integer.\n",
        "x = \"42\"\n",
        "y = int(x)  # y will be 42, an integer\n",
        "\n",
        "#2.Convert to float: Converts a value to a floating-point number.\n",
        "\n",
        "x = \"3.14\"\n",
        "y = float(x)  # y will be 3.14, a float\n",
        "\n",
        "#3.Convert to str: Converts a value to a string.\n",
        "\n",
        "x = 42\n",
        "y = str(x)  # y will be \"42\", a string\n",
        "\n",
        "#4.Convert to list: Converts an iterable (like a string or a tuple) to a list.\n",
        "\n",
        "x = \"hello\"\n",
        "y = list(x)  # y will be ['h', 'e', 'l', 'l', 'o']\n",
        "\n",
        "#5.Convert to tuple: Converts an iterable to a tuple.\n",
        "\n",
        "x = [1, 2, 3]\n",
        "y = tuple(x)  # y will be (1, 2, 3)\n",
        "\n",
        "#6.Convert to set: Converts an iterable to a set.\n",
        "\n",
        "x = [1, 2, 2, 3]\n",
        "y = set(x)  # y will be {1, 2, 3}\n",
        "\n",
        "#7.Convert to dict: Converts a sequence of key-value pairs (or a dictionary) to a dictionary.\n",
        "\n",
        "x = [(1, 'a'), (2, 'b')]\n",
        "y = dict(x)  # y will be {1: 'a', 2: 'b'}\n",
        "\n",
        "#8.Convert to bool: Converts a value to a boolean.\n",
        "\n",
        "x = 0\n",
        "y = bool(x)  # y will be False\n",
        "\n",
        "\n"
      ],
      "metadata": {
        "id": "OsWO6-A1Bs1c"
      },
      "execution_count": 4,
      "outputs": []
    },
    {
      "cell_type": "code",
      "source": [
        "\"\"\"Q4. How do you write and execute a Python script from the command line?\"\"\"\n",
        "\n",
        "#Answer\n",
        "# hello.py\n",
        "\n",
        "print(\"Hello, World!\")\n"
      ],
      "metadata": {
        "colab": {
          "base_uri": "https://localhost:8080/"
        },
        "id": "VqNThXOiASsb",
        "outputId": "57681144-6bac-4267-f8ed-0d6ae223ff62"
      },
      "execution_count": 6,
      "outputs": [
        {
          "output_type": "stream",
          "name": "stdout",
          "text": [
            "Hello, World!\n"
          ]
        }
      ]
    },
    {
      "cell_type": "code",
      "source": [
        "'''Q5. Given a list my_list = [1, 2, 3, 4, 5], write the code to slice the list and obtain the sub-list [2, 3].'''\n",
        "\n",
        "#Answer\n",
        "my_list = [1, 2, 3, 4, 5]\n",
        "sub_list = my_list[1:3]  # start at index 1, go up to but not including index 3\n",
        "print(sub_list)  # Output: [2, 3]\n"
      ],
      "metadata": {
        "colab": {
          "base_uri": "https://localhost:8080/"
        },
        "id": "dXclCidFBbHi",
        "outputId": "f0fbe8f5-11fb-4e21-96cc-58f3bbf3eaad"
      },
      "execution_count": 8,
      "outputs": [
        {
          "output_type": "stream",
          "name": "stdout",
          "text": [
            "[2, 3]\n"
          ]
        }
      ]
    },
    {
      "cell_type": "code",
      "source": [
        "'''Q6. What is a complex number in mathematics, and how is it represented in Python?'''\n",
        "#Answer\n",
        "z = complex(3, 4)  # 3 is the real part, 4 is the imaginary part\n",
        "\n",
        "#Using the j notation in python programing:\n",
        "z = 3 + 4j  # 3 is the real part, 4 is the imaginary part\n",
        "\n",
        "z = 3 + 4j\n",
        "\n",
        "real_part = z.real  # 3.0\n",
        "imaginary_part = z.imag  # 4.0\n",
        "\n",
        "print(\"Real part:\", real_part)\n",
        "print(\"Imaginary part:\", imaginary_part)\n"
      ],
      "metadata": {
        "colab": {
          "base_uri": "https://localhost:8080/"
        },
        "id": "HVQXPaeKB1qL",
        "outputId": "5f646deb-2c5f-4a57-eabb-d30950027fc6"
      },
      "execution_count": 10,
      "outputs": [
        {
          "output_type": "stream",
          "name": "stdout",
          "text": [
            "Real part: 3.0\n",
            "Imaginary part: 4.0\n"
          ]
        }
      ]
    },
    {
      "cell_type": "code",
      "source": [
        "z1 = 3 + 4j\n",
        "z2 = 1 + 2j\n",
        "\n",
        "# Addition\n",
        "add = z1 + z2  # (3 + 4j) + (1 + 2j) = 4 + 6j\n",
        "\n",
        "# Subtraction\n",
        "sub = z1 - z2  # (3 + 4j) - (1 + 2j) = 2 + 2j\n",
        "\n",
        "# Multiplication\n",
        "mul = z1 * z2  # (3 + 4j) * (1 + 2j) = 3 + 6j + 4j + 8j^2 = 3 + 10j - 8 = -5 + 10j\n",
        "\n",
        "# Division\n",
        "div = z1 / z2  # (3 + 4j) / (1 + 2j) = (3 + 4j) * (1 - 2j) / (1^2 + 2^2) = (3 - 6j + 4j - 8) / 5 = -5 / 5 + (-2j) / 5 = -1 - 2/5j\n"
      ],
      "metadata": {
        "id": "QmyTjR_2DCTY"
      },
      "execution_count": 11,
      "outputs": []
    },
    {
      "cell_type": "code",
      "source": [
        "# Define complex numbers\n",
        "z1 = 2 + 3j\n",
        "z2 = 1 - 4j\n",
        "\n",
        "# Arithmetic operations\n",
        "sum_z = z1 + z2\n",
        "difference_z = z1 - z2\n",
        "product_z = z1 * z2\n",
        "quotient_z = z1 / z2\n",
        "\n",
        "# Print results\n",
        "print(\"Sum:\", sum_z)\n",
        "print(\"Difference:\", difference_z)\n",
        "print(\"Product:\", product_z)\n",
        "print(\"Quotient:\", quotient_z)\n",
        "\n",
        "# Access real and imaginary parts\n",
        "print(\"Real part of z1:\", z1.real)\n",
        "print(\"Imaginary part of z1:\", z1.imag)\n"
      ],
      "metadata": {
        "colab": {
          "base_uri": "https://localhost:8080/"
        },
        "id": "e0-8OdPGDPF0",
        "outputId": "e76d689a-5b44-47db-de46-65fffe415a01"
      },
      "execution_count": 13,
      "outputs": [
        {
          "output_type": "stream",
          "name": "stdout",
          "text": [
            "Sum: (3-1j)\n",
            "Difference: (1+7j)\n",
            "Product: (14-5j)\n",
            "Quotient: (-0.5882352941176471+0.6470588235294118j)\n",
            "Real part of z1: 2.0\n",
            "Imaginary part of z1: 3.0\n"
          ]
        }
      ]
    },
    {
      "cell_type": "code",
      "source": [
        "'''Q7. What is the correct way to declare a variable named age and assign the value 25 to it?'''\n",
        "#Answer\n",
        "age = 25\n",
        "print(type(age))\n"
      ],
      "metadata": {
        "colab": {
          "base_uri": "https://localhost:8080/"
        },
        "id": "dSfRkaZtDYuX",
        "outputId": "8df8db45-6ab5-4d41-d9b6-46ec5cd0c7af"
      },
      "execution_count": 16,
      "outputs": [
        {
          "output_type": "stream",
          "name": "stdout",
          "text": [
            "<class 'int'>\n"
          ]
        }
      ]
    },
    {
      "cell_type": "code",
      "source": [
        "'''Q8. Declare a variable named price and assign the value 9.99 to it. What data type does this variable\n",
        "belong to?'''\n",
        "#Answer\n",
        "price = 9.99\n",
        "print(type(price))  # Output will be <class 'float'>\n"
      ],
      "metadata": {
        "colab": {
          "base_uri": "https://localhost:8080/"
        },
        "id": "cKxTd0k2EHaz",
        "outputId": "d8340618-532a-4c66-ba1c-6e0129d1111b"
      },
      "execution_count": 18,
      "outputs": [
        {
          "output_type": "stream",
          "name": "stdout",
          "text": [
            "<class 'float'>\n"
          ]
        }
      ]
    },
    {
      "cell_type": "code",
      "source": [
        "'''Q9. Create a variable named name and assign your full name to it as a string. How would you print the\n",
        "value of this variable?'''\n",
        "#Answer\n",
        "name = \"Jane Doe\"\n",
        "print(name)\n"
      ],
      "metadata": {
        "colab": {
          "base_uri": "https://localhost:8080/"
        },
        "id": "4oi-hXz2Ef7e",
        "outputId": "67565dfd-1d38-495a-84c9-4bfe98f05a36"
      },
      "execution_count": 20,
      "outputs": [
        {
          "output_type": "stream",
          "name": "stdout",
          "text": [
            "Jane Doe\n"
          ]
        }
      ]
    },
    {
      "cell_type": "code",
      "source": [
        "'''Q10. Given the string \"Hello, World!\", extract the substring \"World\".'''\n",
        "#Answer\n",
        "# Given string\n",
        "text = \"Hello, World!\"\n",
        "\n",
        "# Extract the substring \"World\"\n",
        "substring = text[7:12]  # Start at index 7, up to but not including index 12\n",
        "\n",
        "print(substring)  # Output: World\n"
      ],
      "metadata": {
        "colab": {
          "base_uri": "https://localhost:8080/"
        },
        "id": "BQt0pMeqE5lE",
        "outputId": "8ea514f5-80f1-45df-aeed-8d9e3b57613f"
      },
      "execution_count": 22,
      "outputs": [
        {
          "output_type": "stream",
          "name": "stdout",
          "text": [
            "World\n"
          ]
        }
      ]
    },
    {
      "cell_type": "code",
      "source": [
        "'''Q11. Create a variable named \"is_student\" and assign it a boolean value indicating whether you are\n",
        "currently a student or not.'''\n",
        "#Answer\n",
        "'''If you are currently a student, you would write:'''\n",
        "is_student = True\n",
        "'''If you are not currently a student, you would write:'''\n",
        "is_student = False\n",
        "'''To check the value of is_student, you can print it:'''\n",
        "print(is_student)  # Output will be either True or False\n",
        "\n",
        "\n"
      ],
      "metadata": {
        "colab": {
          "base_uri": "https://localhost:8080/"
        },
        "id": "yQBOBfqsFc2w",
        "outputId": "8b46a243-823c-42f3-cc57-00e2653c4a3a"
      },
      "execution_count": 23,
      "outputs": [
        {
          "output_type": "stream",
          "name": "stdout",
          "text": [
            "False\n"
          ]
        }
      ]
    },
    {
      "cell_type": "code",
      "source": [],
      "metadata": {
        "id": "KtcJ-k28GELB"
      },
      "execution_count": null,
      "outputs": []
    }
  ]
}